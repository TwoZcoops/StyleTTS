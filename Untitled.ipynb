{
 "cells": [
  {
   "cell_type": "code",
   "execution_count": 1,
   "id": "6ce5853a-37c8-44a2-84f1-e833ba7482aa",
   "metadata": {},
   "outputs": [
    {
     "data": {
      "text/plain": [
       "CompletedProcess(args=['D:\\\\Program Files (x86)\\\\eSpeak\\\\command_line\\\\espeak.exe', 'Hello, this is a test'], returncode=0)"
      ]
     },
     "execution_count": 1,
     "metadata": {},
     "output_type": "execute_result"
    }
   ],
   "source": [
    "import subprocess\n",
    "subprocess.run([r\"D:\\Program Files (x86)\\eSpeak\\command_line\\espeak.exe\", \"Hello, this is a test\"])\n"
   ]
  },
  {
   "cell_type": "code",
   "execution_count": 8,
   "id": "5109e0c5-6110-4fbe-b58d-901edb3b1fd2",
   "metadata": {},
   "outputs": [
    {
     "name": "stdout",
     "output_type": "stream",
     "text": [
      "Checking D:\\Program Files (x86)\\eSpeak\\command_line\\espeak.dll: Exists? False\n",
      "Checking D:\\Program Files (x86)\\eSpeak\\espeak.dll: Exists? False\n",
      "Checking D:\\Program Files (x86)\\eSpeak\\libespeak.dll: Exists? False\n"
     ]
    }
   ],
   "source": [
    "import os\n",
    "\n",
    "paths = [\n",
    "    r\"D:\\Program Files (x86)\\eSpeak\\command_line\\espeak.dll\",\n",
    "    r\"D:\\Program Files (x86)\\eSpeak\\espeak.dll\",\n",
    "    r\"D:\\Program Files (x86)\\eSpeak\\libespeak.dll\"\n",
    "]\n",
    "\n",
    "for path in paths:\n",
    "    print(f\"Checking {path}: Exists? {os.path.exists(path)}\")\n"
   ]
  },
  {
   "cell_type": "code",
   "execution_count": 3,
   "id": "dc052a4b-3375-4a7c-b401-2ea68bdeee28",
   "metadata": {},
   "outputs": [
    {
     "name": "stdout",
     "output_type": "stream",
     "text": [
      "False\n"
     ]
    }
   ],
   "source": [
    "import os\n",
    "os.environ[\"ESPEAK_LIBRARY\"] = r\"D:\\Program Files (x86)\\eSpeak\\command_line\\espeak.exe\"\n",
    "print(phonemizer.backend.EspeakBackend.is_available())\n"
   ]
  },
  {
   "cell_type": "code",
   "execution_count": 4,
   "id": "5369b43d-0632-4268-949a-f10560256337",
   "metadata": {},
   "outputs": [],
   "source": [
    "import os\n",
    "os.environ[\"ESPEAK_LIBRARY\"] = r\"D:\\Program Files (x86)\\eSpeak\\command_line\\espeak.dll\"\n",
    "os.environ[\"ESPEAK_DATA_PATH\"] = r\"D:\\Program Files (x86)\\eSpeak\\espeak-data\"\n"
   ]
  },
  {
   "cell_type": "code",
   "execution_count": 6,
   "id": "873b4bca-3a90-4ad0-b10a-ebdeba864ac6",
   "metadata": {},
   "outputs": [
    {
     "name": "stdout",
     "output_type": "stream",
     "text": [
      "False\n"
     ]
    }
   ],
   "source": [
    "import phonemizer\n",
    "print(phonemizer.backend.EspeakBackend.is_available())\n"
   ]
  },
  {
   "cell_type": "code",
   "execution_count": 7,
   "id": "94b1364b-8190-4200-a84a-59079559c9e5",
   "metadata": {},
   "outputs": [
    {
     "name": "stdout",
     "output_type": "stream",
     "text": [
      "None\n"
     ]
    }
   ],
   "source": [
    "import shutil\n",
    "print(shutil.which(\"espeak\"))\n"
   ]
  },
  {
   "cell_type": "code",
   "execution_count": null,
   "id": "a6bd0bce-387e-40f1-aa7d-f89de4130a0c",
   "metadata": {},
   "outputs": [],
   "source": []
  }
 ],
 "metadata": {
  "kernelspec": {
   "display_name": "Python 3 (ipykernel)",
   "language": "python",
   "name": "python3"
  },
  "language_info": {
   "codemirror_mode": {
    "name": "ipython",
    "version": 3
   },
   "file_extension": ".py",
   "mimetype": "text/x-python",
   "name": "python",
   "nbconvert_exporter": "python",
   "pygments_lexer": "ipython3",
   "version": "3.9.21"
  }
 },
 "nbformat": 4,
 "nbformat_minor": 5
}
